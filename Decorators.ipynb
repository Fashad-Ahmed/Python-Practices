{
 "cells": [
  {
   "cell_type": "code",
   "execution_count": 1,
   "metadata": {},
   "outputs": [],
   "source": [
    "# decorator allows you to wap a function in another function"
   ]
  },
  {
   "cell_type": "code",
   "execution_count": 2,
   "metadata": {},
   "outputs": [
    {
     "name": "stdout",
     "output_type": "stream",
     "text": [
      "calc_squaretook0.03009343147277832seconds\n",
      "calc_cubetook0.042693138122558594seconds\n"
     ]
    }
   ],
   "source": [
    "import time\n",
    "def time_it(func):\n",
    "    def wrapper(*arg,**kwargs):\n",
    "        start = time.time()\n",
    "        result = func(*arg,**kwargs)\n",
    "        end = time.time()\n",
    "        print(func.__name__ + \"took\" + str(end-start) + \"seconds\")\n",
    "        return result\n",
    "    return wrapper\n",
    "\n",
    "\n",
    "@time_it\n",
    "def calc_square(numbers):\n",
    "    result = []\n",
    "    for number in numbers:\n",
    "        result.append(number*number)\n",
    "    return result\n",
    "\n",
    "@time_it\n",
    "def calc_cube(numbers):\n",
    "    result = []\n",
    "    for number in numbers:\n",
    "        result.append(number*number*number)\n",
    "    return result\n",
    "\n",
    "array = range(1,100000)\n",
    "\n",
    "out_square = calc_square(array)\n",
    "out_cube = calc_cube(array)"
   ]
  },
  {
   "cell_type": "code",
   "execution_count": null,
   "metadata": {},
   "outputs": [],
   "source": []
  }
 ],
 "metadata": {
  "kernelspec": {
   "display_name": "Python 3",
   "language": "python",
   "name": "python3"
  },
  "language_info": {
   "codemirror_mode": {
    "name": "ipython",
    "version": 3
   },
   "file_extension": ".py",
   "mimetype": "text/x-python",
   "name": "python",
   "nbconvert_exporter": "python",
   "pygments_lexer": "ipython3",
   "version": "3.6.10"
  }
 },
 "nbformat": 4,
 "nbformat_minor": 4
}
