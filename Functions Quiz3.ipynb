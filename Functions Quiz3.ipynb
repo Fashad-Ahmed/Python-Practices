{
 "cells": [
  {
   "cell_type": "markdown",
   "metadata": {},
   "source": [
    "# FUNCTIONS "
   ]
  },
  {
   "cell_type": "markdown",
   "metadata": {},
   "source": [
    "## PIAIC AIC QUIZ 3 PREPARATION"
   ]
  },
  {
   "cell_type": "code",
   "execution_count": 16,
   "metadata": {},
   "outputs": [
    {
     "name": "stdout",
     "output_type": "stream",
     "text": [
      "5\n"
     ]
    }
   ],
   "source": [
    "def add_numbers():\n",
    "    first_number = 2\n",
    "    second_number = 3\n",
    "    total = first_number + second_number\n",
    "    print(total)\n",
    "\n",
    "add_numbers()"
   ]
  },
  {
   "cell_type": "code",
   "execution_count": 17,
   "metadata": {},
   "outputs": [
    {
     "name": "stdout",
     "output_type": "stream",
     "text": [
      "barca\n",
      "162\n"
     ]
    }
   ],
   "source": [
    "print(\"barca\")\n",
    "def add_numbers(first_number,second_number):\n",
    "    total = first_number + second_number\n",
    "    print(total)\n",
    "\n",
    "add_numbers(53,109)"
   ]
  },
  {
   "cell_type": "code",
   "execution_count": 18,
   "metadata": {},
   "outputs": [
    {
     "name": "stdout",
     "output_type": "stream",
     "text": [
      "Hello, there.\n"
     ]
    }
   ],
   "source": [
    "greeting = \"Hello, there.\"\n",
    "def greet_user(greeting):\n",
    "    print(greeting)\n",
    "greet_user(greeting)"
   ]
  },
  {
   "cell_type": "code",
   "execution_count": 19,
   "metadata": {},
   "outputs": [
    {
     "name": "stdout",
     "output_type": "stream",
     "text": [
      "The names of the couple are malik and sania\n"
     ]
    }
   ],
   "source": [
    "def say_names_of_couple(husband_name, wife_name):\n",
    "    print(\"The names of the couple are \" +husband_name + \" and \" + wife_name)\n",
    "say_names_of_couple(\"malik\", \"sania\")"
   ]
  },
  {
   "cell_type": "code",
   "execution_count": 20,
   "metadata": {},
   "outputs": [
    {
     "name": "stdout",
     "output_type": "stream",
     "text": [
      "fashad ahmed siddique\n",
      "fashad ahmed siddique\n"
     ]
    }
   ],
   "source": [
    "def word(f,m,l):\n",
    "    print(f + m + l)\n",
    "\n",
    "word(\"fashad \" , \"ahmed \",\"siddique\")\n",
    "\n",
    "#keyword argument\n",
    "# give keyword arg. in last\n",
    "word(\"fashad \" , \"ahmed \",l=\"siddique\")"
   ]
  },
  {
   "cell_type": "markdown",
   "metadata": {},
   "source": [
    "### Note: Only keyword parameters can have a default value. Positional parameters can't.\n"
   ]
  },
  {
   "cell_type": "markdown",
   "metadata": {},
   "source": [
    "### Default parameters "
   ]
  },
  {
   "cell_type": "code",
   "execution_count": 22,
   "metadata": {},
   "outputs": [
    {
     "name": "stdout",
     "output_type": "stream",
     "text": [
      "fashad ahmed  siddique\n"
     ]
    }
   ],
   "source": [
    "def word(f,m = \"Uddin Qazi\",l = \" siddique\"):\n",
    "    print(f + m + l)\n",
    "\n",
    "word(\"fashad \" , \"ahmed \")"
   ]
  },
  {
   "cell_type": "markdown",
   "metadata": {},
   "source": [
    "### Arbitary arguments "
   ]
  },
  {
   "cell_type": "code",
   "execution_count": null,
   "metadata": {},
   "outputs": [],
   "source": [
    "def qorder(p1,f1,*t1):\n",
    "    print(f\"pizza: {p1} ,flavour: {f1} ,topping{t1}\")\n",
    "\n",
    "qorder(\"big\",\"perri\",\"mashroom\",\"organo\")\n",
    "# return toppings as a tuple"
   ]
  },
  {
   "cell_type": "code",
   "execution_count": null,
   "metadata": {},
   "outputs": [],
   "source": [
    "def display_result(winner, score, **other_info):\n",
    "    print(\"The winner was \" + winner)\n",
    "    print(\"The score was \" + score)\n",
    "    for key, value in other_info.items():\n",
    "    print(key + \": \" + value)\n",
    "display_result(winner = \"Barca\",score = \"1-0\" , \"no injury\",\"corner taken quickly\")\n",
    "display_result(winner=\"Real Madrid\", score=\"1-0\",overtime =\"yes\", injuries=\"none\")\n"
   ]
  },
  {
   "cell_type": "markdown",
   "metadata": {},
   "source": [
    "### USING FUNCTION AS A VARIABLE"
   ]
  },
  {
   "cell_type": "code",
   "execution_count": null,
   "metadata": {},
   "outputs": [],
   "source": [
    "def add(a,b):\n",
    "    return a+b\n",
    "def sub(c,d):\n",
    "    return c-d\n",
    "\n",
    "result = add(2,3) * sub(10,3)\n",
    "print(result)"
   ]
  }
 ],
 "metadata": {
  "kernelspec": {
   "display_name": "Python 3",
   "language": "python",
   "name": "python3"
  },
  "language_info": {
   "codemirror_mode": {
    "name": "ipython",
    "version": 3
   },
   "file_extension": ".py",
   "mimetype": "text/x-python",
   "name": "python",
   "nbconvert_exporter": "python",
   "pygments_lexer": "ipython3",
   "version": "3.6.10"
  }
 },
 "nbformat": 4,
 "nbformat_minor": 2
}
