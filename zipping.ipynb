{
  "nbformat": 4,
  "nbformat_minor": 0,
  "metadata": {
    "colab": {
      "name": "Untitled1.ipynb",
      "provenance": []
    },
    "kernelspec": {
      "name": "python3",
      "display_name": "Python 3"
    }
  },
  "cells": [
    {
      "cell_type": "code",
      "metadata": {
        "id": "bFBYgEzo15-s",
        "colab_type": "code",
        "colab": {
          "base_uri": "https://localhost:8080/",
          "height": 34
        },
        "outputId": "98816750-1cce-4e75-a531-acfc748b4a47"
      },
      "source": [
        "list1 = [1,2,3]\n",
        "list2 = [\"apple\",\"cherry\",\"banana\"]\n",
        "zipped = list(zip(list1,list2))\n",
        "print(zipped)"
      ],
      "execution_count": 1,
      "outputs": [
        {
          "output_type": "stream",
          "text": [
            "[(1, 'apple'), (2, 'cherry'), (3, 'banana')]\n"
          ],
          "name": "stdout"
        }
      ]
    },
    {
      "cell_type": "code",
      "metadata": {
        "id": "GAYq1Nhe2Iur",
        "colab_type": "code",
        "colab": {
          "base_uri": "https://localhost:8080/",
          "height": 51
        },
        "outputId": "422b9665-f932-4ba6-db3b-38372288cfcc"
      },
      "source": [
        "print(zipped)\n",
        "unzipped = list(zip(*zipped))\n",
        "print(unzipped)"
      ],
      "execution_count": 2,
      "outputs": [
        {
          "output_type": "stream",
          "text": [
            "[(1, 'apple'), (2, 'cherry'), (3, 'banana')]\n",
            "[(1, 2, 3), ('apple', 'cherry', 'banana')]\n"
          ],
          "name": "stdout"
        }
      ]
    },
    {
      "cell_type": "code",
      "metadata": {
        "id": "GC_p6CHl2TkM",
        "colab_type": "code",
        "colab": {
          "base_uri": "https://localhost:8080/",
          "height": 119
        },
        "outputId": "2e121be6-7583-4625-c9e3-815b028d9ae6"
      },
      "source": [
        "\n",
        "for (l1,l2) in zipped:\n",
        "    print(l1);print(l2)"
      ],
      "execution_count": 3,
      "outputs": [
        {
          "output_type": "stream",
          "text": [
            "1\n",
            "apple\n",
            "2\n",
            "cherry\n",
            "3\n",
            "banana\n"
          ],
          "name": "stdout"
        }
      ]
    },
    {
      "cell_type": "markdown",
      "metadata": {
        "id": "pvMc1Kza2Y5y",
        "colab_type": "text"
      },
      "source": [
        ""
      ]
    },
    {
      "cell_type": "code",
      "metadata": {
        "id": "Ju76WOot2Znq",
        "colab_type": "code",
        "colab": {
          "base_uri": "https://localhost:8080/",
          "height": 34
        },
        "outputId": "d57890d7-d1ae-4c85-c181-b8ab1f9bc547"
      },
      "source": [
        "\n",
        "item=[\"apple\",\"mango\",\"pineapple\"]\n",
        "rupees = [3,6,4]\n",
        "quant = [0.99,1,66]\n",
        "s=[]\n",
        "for (item,rupees,quant) in zip(item,rupees,quant):\n",
        "    item, rupees, quant = str(item) , str(rupees) , str(quant)\n",
        "    s1 = \"i buy\"+ rupees + item + \"in\" + quant + \".\"\n",
        "    s.append(s1)\n",
        "print(s)"
      ],
      "execution_count": 5,
      "outputs": [
        {
          "output_type": "stream",
          "text": [
            "['i buy3applein0.99.', 'i buy6mangoin1.', 'i buy4pineapplein66.']\n"
          ],
          "name": "stdout"
        }
      ]
    },
    {
      "cell_type": "code",
      "metadata": {
        "id": "lFyZ18aV2VqF",
        "colab_type": "code",
        "colab": {}
      },
      "source": [
        ""
      ],
      "execution_count": 0,
      "outputs": []
    }
  ]
}